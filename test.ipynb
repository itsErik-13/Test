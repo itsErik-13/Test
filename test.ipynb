{
 "cells": [
  {
   "cell_type": "code",
   "execution_count": 1,
   "metadata": {},
   "outputs": [],
   "source": [
    "import pandas as pd\n",
    "from sklearn.feature_extraction.text import TfidfVectorizer\n",
    "from sklearn.neighbors import NearestNeighbors\n",
    "from IPython.display import clear_output, display, HTML\n",
    "import urllib.request\n",
    "\n"
   ]
  },
  {
   "cell_type": "code",
   "execution_count": 8,
   "metadata": {},
   "outputs": [
    {
     "data": {
      "text/plain": [
       "('converted.csv', <http.client.HTTPMessage at 0x2449a996e10>)"
      ]
     },
     "execution_count": 8,
     "metadata": {},
     "output_type": "execute_result"
    }
   ],
   "source": [
    "urllib.request.urlretrieve(\"https://drive.usercontent.google.com/download?id=1S2rBtlONWMG2t2aXUBu651s27zFqIHPr&export=download&authuser=0&confirm=t&uuid=93c00f5c-a0b5-4cee-a111-569330013491&at=AENtkXYVY3zj6r4LR6X7sAx8Kw8n%3A1732468742225\", \"converted.csv\")\n",
    "\n",
    "# En caso de no funcionar la descaga descargar manualmente desde https://drive.google.com/file/d/1S2rBtlONWMG2t2aXUBu651s27zFqIHPr y guardarlo bajo el nombre converted.csv"
   ]
  },
  {
   "cell_type": "code",
   "execution_count": 5,
   "metadata": {},
   "outputs": [],
   "source": [
    "df = pd.read_csv('converted.csv')  # Reemplaza con la ruta a tu archivo\n",
    "\n",
    "df = df[['Name', 'Genres', 'Tags', 'Categories', 'Positive', 'Negative', 'Header image', 'Metacritic score']]\n",
    "\n",
    "df = df.fillna('')\n",
    "for col in ['Genres', 'Tags', 'Categories']:\n",
    "    df[col] = df[col].apply(lambda x: x.split(', ') if isinstance(x, str) else [])\n",
    "    \n",
    "df['combined_features'] = df['Genres'].apply(lambda x: ' '.join(x)) + ' ' + \\\n",
    "                          df['Tags'].apply(lambda x: ' '.join(x)) + ' ' + \\\n",
    "                          df['Categories'].apply(lambda x: ' '.join(x))"
   ]
  },
  {
   "cell_type": "code",
   "execution_count": 6,
   "metadata": {},
   "outputs": [],
   "source": [
    "# Crear el vectorizador TF-IDF\n",
    "tfidf = TfidfVectorizer(stop_words='english')\n",
    "\n",
    "# Convertir las características combinadas en una matriz TF-IDF\n",
    "tfidf_matrix = tfidf.fit_transform(df['combined_features'])\n",
    "\n",
    "# Configurar el modelo para encontrar los k vecinos más cercanos\n",
    "knn = NearestNeighbors(metric='cosine', algorithm='brute', n_neighbors=10)\n",
    "knn.fit(tfidf_matrix)\n",
    "\n",
    "# Función para recomendar juegos\n",
    "def recommend_games_knn(title):\n",
    "    try:\n",
    "        idx = df[df['Name'] == title].index[0]\n",
    "    except IndexError:\n",
    "        return []\n",
    "    distances, indices = knn.kneighbors(tfidf_matrix[idx])\n",
    "    recommended_games = df.iloc[indices[0][1:]]['Name'].tolist()\n",
    "    return recommended_games\n",
    "\n",
    "\n",
    "def recommend_from_likes(game_names):\n",
    "\n",
    "    if not game_names:\n",
    "        print('No tienes juegos para generar recomendaciones')\n",
    "\n",
    "    # Utilizamos un diccionario para almacenar los juegos sin duplicados, \n",
    "    # la clave es el nombre del juego y el valor es el objeto con sus detalles\n",
    "    unique_games = {}\n",
    "\n",
    "    # Generar recomendaciones para todos los juegos likeados\n",
    "    for game_name in game_names:\n",
    "        recommendations = recommend_games_knn(game_name)\n",
    "        \n",
    "        # Para cada recomendación, obtener el nombre, imagen y puntaje de Metacritic\n",
    "        for rec in recommendations:\n",
    "            game = df[df['Name'] == rec]\n",
    "            if not game.empty:\n",
    "                game_data = game.iloc[0]\n",
    "                game_name = game_data['Name']\n",
    "                \n",
    "                # Solo agregamos el juego si no está ya en el diccionario o si tiene un puntaje Metacritic más alto\n",
    "                if game_name not in unique_games or game_data['Metacritic score'] > unique_games[game_name]['metacritic_score']:\n",
    "                    unique_games[game_name] = {\n",
    "                        'name': game_name,\n",
    "                        'metacritic_score': game_data['Metacritic score']\n",
    "                    }\n",
    "\n",
    "    # Convertir el diccionario a una lista y ordenar por Metacritic Score de manera descendente\n",
    "    recommended_data = list(unique_games.values())\n",
    "    recommended_data.sort(key=lambda x: x['metacritic_score'], reverse=True)\n",
    "\n",
    "    # Devolver solo los 10 mejores juegos sin el Metacritic score\n",
    "    recommendations = [{'name': game['name']} for game in recommended_data[:10]]\n",
    "    \n",
    "    for game in recommendations:\n",
    "        print(game['name'])\n"
   ]
  },
  {
   "cell_type": "code",
   "execution_count": 7,
   "metadata": {},
   "outputs": [
    {
     "name": "stdout",
     "output_type": "stream",
     "text": [
      "Red Dead Redemption 2\n",
      "Team Fortress 2\n",
      "Grand Theft Auto IV: The Complete Edition\n",
      "Left 4 Dead 2\n",
      "DiRT Rally\n",
      "Risk of Rain 2\n",
      "Saints Row: The Third\n",
      "HITMAN™ 2\n",
      "Dungeon Defenders\n",
      "MORDHAU\n"
     ]
    }
   ],
   "source": [
    "recommend_from_likes(['Counter-Strike: Global Offensive', 'Grand Theft Auto V', 'The Witcher 3: Wild Hunt'])"
   ]
  }
 ],
 "metadata": {
  "kernelspec": {
   "display_name": "venv",
   "language": "python",
   "name": "python3"
  },
  "language_info": {
   "codemirror_mode": {
    "name": "ipython",
    "version": 3
   },
   "file_extension": ".py",
   "mimetype": "text/x-python",
   "name": "python",
   "nbconvert_exporter": "python",
   "pygments_lexer": "ipython3",
   "version": "3.12.1"
  }
 },
 "nbformat": 4,
 "nbformat_minor": 2
}
